{
  "cells": [
    {
      "cell_type": "code",
      "execution_count": null,
      "metadata": {
        "colab": {
          "base_uri": "https://localhost:8080/"
        },
        "id": "UZNLznD8Ed0u",
        "outputId": "b157c9ea-46e7-408e-92c1-3321da2d7fa4"
      },
      "outputs": [],
      "source": [
        "from captcha.image import ImageCaptcha\n",
        "import matplotlib.pyplot as plt\n",
        "import numpy as np\n",
        "import random\n",
        "import tensorflow as tf\n",
        "\n",
        "import string\n",
        "characters = \"0123456789abcdefghijklmnpqrstuvwxyz\"\n",
        "width, height, n_len, n_class = 96, 72, 4, len(characters)"
      ]
    },
    {
      "cell_type": "code",
      "execution_count": null,
      "metadata": {
        "id": "pkRMhCORGruR"
      },
      "outputs": [],
      "source": [
        "from tensorflow.keras.utils import Sequence\n",
        "\n",
        "class CaptchaSequence(Sequence):\n",
        "    def __init__(self, characters, batch_size, steps, n_len=4, width=128, height=64): # w=96, h=72\n",
        "        self.characters = characters\n",
        "        self.batch_size = batch_size\n",
        "        self.steps = steps\n",
        "        self.n_len = n_len\n",
        "        self.width = width\n",
        "        self.height = height\n",
        "        self.n_class = len(characters)\n",
        "        self.generator = ImageCaptcha(width=width, height=height)\n",
        "    \n",
        "    def __len__(self):\n",
        "        return self.steps\n",
        "\n",
        "    def __getitem__(self, idx):\n",
        "        X = np.zeros((self.batch_size, self.height, self.width, 3), dtype=np.float32)\n",
        "        y = [np.zeros((self.batch_size, self.n_class), dtype=np.uint8) for i in range(self.n_len)]\n",
        "        for i in range(self.batch_size):\n",
        "            random_str = ''.join([random.choice(self.characters) for j in range(self.n_len)])\n",
        "            X[i] = np.array(self.generator.generate_image(random_str)) / 255.0\n",
        "            for j, ch in enumerate(random_str):\n",
        "                y[j][i, :] = 0\n",
        "                y[j][i, self.characters.find(ch)] = 1\n",
        "        return X, y"
      ]
    },
    {
      "cell_type": "code",
      "execution_count": null,
      "metadata": {
        "colab": {
          "base_uri": "https://localhost:8080/",
          "height": 297
        },
        "id": "P6NqnY4RHLDC",
        "outputId": "73757e6c-1010-49a0-e5d3-b3d30b79555d"
      },
      "outputs": [
        {
          "data": {
            "text/plain": [
              "Text(0.5, 1.0, 'f2k5')"
            ]
          },
          "execution_count": 4,
          "metadata": {},
          "output_type": "execute_result"
        },
        {
          "data": {
            "image/png": "[encoded data removed]",
            "text/plain": [
              "<Figure size 432x288 with 1 Axes>"
            ]
          },
          "metadata": {
            "image/png": {
              "height": 263,
              "width": 324
            },
            "needs_background": "light"
          },
          "output_type": "display_data"
        }
      ],
      "source": [
        "def decode(y):\n",
        "    y = np.argmax(np.array(y), axis=2)[:,0]\n",
        "    return ''.join([characters[x] for x in y])\n",
        "\n",
        "data = CaptchaSequence(characters, batch_size=1, steps=1, n_len=n_len, width=width, height=height)\n",
        "X, y = data[0]\n",
        "plt.imshow(X[0])\n",
        "plt.title(decode(y))"
      ]
    },
    {
      "cell_type": "code",
      "execution_count": null,
      "metadata": {
        "id": "CI2nIPrfHxOl"
      },
      "outputs": [],
      "source": [
        "from tensorflow.keras.models import *\n",
        "from tensorflow.keras.layers import *\n",
        "\n",
        "input_tensor = Input((height, width, 3))\n",
        "x = input_tensor\n",
        "for i, n_cnn in enumerate([2, 2, 2, 2, 2]):\n",
        "    for j in range(n_cnn):\n",
        "        x = Conv2D(32*2**min(i, 3), kernel_size=3, padding='same', kernel_initializer='he_uniform')(x)\n",
        "        x = BatchNormalization()(x)\n",
        "        x = Activation('relu')(x)\n",
        "    x = MaxPooling2D(2)(x)\n",
        "\n",
        "x = Flatten()(x)\n",
        "x = [Dense(n_class, activation='softmax', name='c%d'%(i+1))(x) for i in range(n_len)]\n",
        "model = Model(inputs=input_tensor, outputs=x)"
      ]
    },
    {
      "cell_type": "code",
      "execution_count": null,
      "metadata": {
        "colab": {
          "base_uri": "https://localhost:8080/",
          "height": 349
        },
        "id": "8NlkGsLRJkZa",
        "outputId": "6f52cfad-df23-45f6-b6e0-8d38dbde15f9"
      },
      "outputs": [
        {
          "name": "stdout",
          "output_type": "stream",
          "text": [
            "Epoch 1/15\n",
            "1000/1000 [==============================] - 496s 481ms/step - loss: 4.3031 - c1_loss: 1.0156 - c2_loss: 1.1481 - c3_loss: 1.1398 - c4_loss: 0.9996 - c1_accuracy: 0.7242 - c2_accuracy: 0.6864 - c3_accuracy: 0.6890 - c4_accuracy: 0.7284 - val_loss: 17.9455 - val_c1_loss: 4.8453 - val_c2_loss: 4.2260 - val_c3_loss: 4.5375 - val_c4_loss: 4.3367 - val_c1_accuracy: 0.3288 - val_c2_accuracy: 0.3866 - val_c3_accuracy: 0.3622 - val_c4_accuracy: 0.3398\n",
            "Epoch 2/15\n",
            "1000/1000 [==============================] - 482s 481ms/step - loss: 0.0985 - c1_loss: 0.0147 - c2_loss: 0.0355 - c3_loss: 0.0340 - c4_loss: 0.0143 - c1_accuracy: 0.9966 - c2_accuracy: 0.9901 - c3_accuracy: 0.9903 - c4_accuracy: 0.9965 - val_loss: 10.5874 - val_c1_loss: 1.6380 - val_c2_loss: 2.6522 - val_c3_loss: 3.4378 - val_c4_loss: 2.8594 - val_c1_accuracy: 0.6302 - val_c2_accuracy: 0.5113 - val_c3_accuracy: 0.4320 - val_c4_accuracy: 0.4435\n",
            "Epoch 3/15\n",
            "1000/1000 [==============================] - 481s 479ms/step - loss: 0.0558 - c1_loss: 0.0077 - c2_loss: 0.0206 - c3_loss: 0.0198 - c4_loss: 0.0077 - c1_accuracy: 0.9982 - c2_accuracy: 0.9940 - c3_accuracy: 0.9942 - c4_accuracy: 0.9979 - val_loss: 0.0804 - val_c1_loss: 0.0091 - val_c2_loss: 0.0320 - val_c3_loss: 0.0277 - val_c4_loss: 0.0117 - val_c1_accuracy: 0.9984 - val_c2_accuracy: 0.9909 - val_c3_accuracy: 0.9920 - val_c4_accuracy: 0.9970\n",
            "Epoch 4/15\n",
            "1000/1000 [==============================] - 480s 478ms/step - loss: 0.0358 - c1_loss: 0.0055 - c2_loss: 0.0130 - c3_loss: 0.0129 - c4_loss: 0.0044 - c1_accuracy: 0.9985 - c2_accuracy: 0.9962 - c3_accuracy: 0.9963 - c4_accuracy: 0.9990 - val_loss: 0.0696 - val_c1_loss: 0.0067 - val_c2_loss: 0.0249 - val_c3_loss: 0.0294 - val_c4_loss: 0.0086 - val_c1_accuracy: 0.9984 - val_c2_accuracy: 0.9929 - val_c3_accuracy: 0.9917 - val_c4_accuracy: 0.9975\n",
            "Epoch 5/15\n",
            "1000/1000 [==============================] - 482s 481ms/step - loss: 0.0307 - c1_loss: 0.0045 - c2_loss: 0.0116 - c3_loss: 0.0107 - c4_loss: 0.0039 - c1_accuracy: 0.9989 - c2_accuracy: 0.9967 - c3_accuracy: 0.9968 - c4_accuracy: 0.9991 - val_loss: 0.0303 - val_c1_loss: 0.0046 - val_c2_loss: 0.0101 - val_c3_loss: 0.0108 - val_c4_loss: 0.0047 - val_c1_accuracy: 0.9993 - val_c2_accuracy: 0.9970 - val_c3_accuracy: 0.9962 - val_c4_accuracy: 0.9990\n",
            "Epoch 6/15\n",
            "1000/1000 [==============================] - 486s 485ms/step - loss: 0.0250 - c1_loss: 0.0038 - c2_loss: 0.0088 - c3_loss: 0.0093 - c4_loss: 0.0032 - c1_accuracy: 0.9989 - c2_accuracy: 0.9975 - c3_accuracy: 0.9972 - c4_accuracy: 0.9992 - val_loss: 0.0247 - val_c1_loss: 0.0028 - val_c2_loss: 0.0096 - val_c3_loss: 0.0096 - val_c4_loss: 0.0028 - val_c1_accuracy: 0.9995 - val_c2_accuracy: 0.9969 - val_c3_accuracy: 0.9970 - val_c4_accuracy: 0.9993\n",
            "Epoch 7/15\n",
            "1000/1000 [==============================] - 483s 481ms/step - loss: 0.0195 - c1_loss: 0.0023 - c2_loss: 0.0068 - c3_loss: 0.0075 - c4_loss: 0.0029 - c1_accuracy: 0.9995 - c2_accuracy: 0.9979 - c3_accuracy: 0.9979 - c4_accuracy: 0.9992 - val_loss: 0.2081 - val_c1_loss: 0.0496 - val_c2_loss: 0.0456 - val_c3_loss: 0.0659 - val_c4_loss: 0.0471 - val_c1_accuracy: 0.9873 - val_c2_accuracy: 0.9871 - val_c3_accuracy: 0.9825 - val_c4_accuracy: 0.9886\n",
            "Epoch 8/15\n",
            "1000/1000 [==============================] - 484s 483ms/step - loss: 0.0180 - c1_loss: 0.0027 - c2_loss: 0.0066 - c3_loss: 0.0062 - c4_loss: 0.0025 - c1_accuracy: 0.9993 - c2_accuracy: 0.9981 - c3_accuracy: 0.9983 - c4_accuracy: 0.9994 - val_loss: 0.0443 - val_c1_loss: 0.0067 - val_c2_loss: 0.0193 - val_c3_loss: 0.0108 - val_c4_loss: 0.0076 - val_c1_accuracy: 0.9986 - val_c2_accuracy: 0.9945 - val_c3_accuracy: 0.9971 - val_c4_accuracy: 0.9982\n",
            "Epoch 9/15\n",
            "1000/1000 [==============================] - 487s 485ms/step - loss: 0.0163 - c1_loss: 0.0022 - c2_loss: 0.0058 - c3_loss: 0.0066 - c4_loss: 0.0017 - c1_accuracy: 0.9994 - c2_accuracy: 0.9983 - c3_accuracy: 0.9981 - c4_accuracy: 0.9996 - val_loss: 0.1063 - val_c1_loss: 0.0191 - val_c2_loss: 0.0350 - val_c3_loss: 0.0358 - val_c4_loss: 0.0164 - val_c1_accuracy: 0.9954 - val_c2_accuracy: 0.9891 - val_c3_accuracy: 0.9901 - val_c4_accuracy: 0.9955\n"
          ]
        },
        {
          "data": {
            "application/javascript": "\n    async function download(id, filename, size) {\n      if (!google.colab.kernel.accessAllowed) {\n        return;\n      }\n      const div = document.createElement('div');\n      const label = document.createElement('label');\n      label.textContent = `Downloading \"${filename}\": `;\n      div.appendChild(label);\n      const progress = document.createElement('progress');\n      progress.max = size;\n      div.appendChild(progress);\n      document.body.appendChild(div);\n\n      const buffers = [];\n      let downloaded = 0;\n\n      const channel = await google.colab.kernel.comms.open(id);\n      // Send a message to notify the kernel that we're ready.\n      channel.send({})\n\n      for await (const message of channel.messages) {\n        // Send a message to notify the kernel that we're ready.\n        channel.send({})\n        if (message.buffers) {\n          for (const buffer of message.buffers) {\n            buffers.push(buffer);\n            downloaded += buffer.byteLength;\n            progress.value = downloaded;\n          }\n        }\n      }\n      const blob = new Blob(buffers, {type: 'application/binary'});\n      const a = document.createElement('a');\n      a.href = window.URL.createObjectURL(blob);\n      a.download = filename;\n      div.appendChild(a);\n      a.click();\n      div.remove();\n    }\n  ",
            "text/plain": [
              "<IPython.core.display.Javascript object>"
            ]
          },
          "metadata": {},
          "output_type": "display_data"
        },
        {
          "data": {
            "application/javascript": "download(\"download_97915601-a902-47d0-bcde-ab67178a03a3\", \"cnn_96x72_4_best.h5\", 41396904)",
            "text/plain": [
              "<IPython.core.display.Javascript object>"
            ]
          },
          "metadata": {},
          "output_type": "display_data"
        }
      ],
      "source": [
        "from tensorflow.keras.callbacks import EarlyStopping, CSVLogger, ModelCheckpoint\n",
        "from tensorflow.keras.optimizers import *\n",
        "\n",
        "train_data = CaptchaSequence(characters, batch_size=128, steps=1000, n_len=n_len, width=width, height=height)\n",
        "valid_data = CaptchaSequence(characters, batch_size=128, steps=100, n_len=n_len, width=width, height=height)\n",
        "basename = \"cnn_\" + str(width) + \"x\" + str(height) + \"_\" + str(n_len)\n",
        "callbacks = [EarlyStopping(patience=3), CSVLogger(basename+'_best.csv'), ModelCheckpoint(basename+'_best.h5', save_best_only=True)]\n",
        "\n",
        "\n",
        "model.compile(loss='categorical_crossentropy',\n",
        "                optimizer=Adam(1e-3, amsgrad=True), \n",
        "                metrics=['accuracy'])\n",
        "\n",
        "\n",
        "model.fit(train_data, epochs=15, validation_data=valid_data, workers=4, use_multiprocessing=True,\n",
        "                    callbacks=callbacks)"
      ]
    },
    {
      "cell_type": "code",
      "execution_count": null,
      "metadata": {
        "colab": {
          "base_uri": "https://localhost:8080/",
          "height": 263
        },
        "id": "16lS5fdbJuXP",
        "outputId": "48898c80-41ae-418e-ce05-246c1d52028e"
      },
      "outputs": [
        {
          "name": "stderr",
          "output_type": "stream",
          "text": [
            "<ipython-input-9-70d9171c01dd>:13: UserWarning: `Model.fit_generator` is deprecated and will be removed in a future version. Please use `Model.fit`, which supports generators.\n",
            "  model.fit_generator(train_data, epochs=5, validation_data=valid_data, workers=4, use_multiprocessing=True,\n"
          ]
        },
        {
          "name": "stdout",
          "output_type": "stream",
          "text": [
            "Epoch 1/5\n",
            "1000/1000 [==============================] - 482s 478ms/step - loss: 0.0115 - c1_loss: 0.0016 - c2_loss: 0.0041 - c3_loss: 0.0040 - c4_loss: 0.0019 - c1_accuracy: 0.9996 - c2_accuracy: 0.9988 - c3_accuracy: 0.9988 - c4_accuracy: 0.9995 - val_loss: 0.0109 - val_c1_loss: 0.0022 - val_c2_loss: 0.0046 - val_c3_loss: 0.0030 - val_c4_loss: 0.0011 - val_c1_accuracy: 0.9994 - val_c2_accuracy: 0.9984 - val_c3_accuracy: 0.9991 - val_c4_accuracy: 0.9997\n",
            "Epoch 2/5\n",
            "1000/1000 [==============================] - 478s 477ms/step - loss: 0.0107 - c1_loss: 0.0016 - c2_loss: 0.0042 - c3_loss: 0.0037 - c4_loss: 0.0013 - c1_accuracy: 0.9996 - c2_accuracy: 0.9988 - c3_accuracy: 0.9990 - c4_accuracy: 0.9996 - val_loss: 0.0124 - val_c1_loss: 8.1444e-04 - val_c2_loss: 0.0041 - val_c3_loss: 0.0057 - val_c4_loss: 0.0019 - val_c1_accuracy: 0.9998 - val_c2_accuracy: 0.9987 - val_c3_accuracy: 0.9984 - val_c4_accuracy: 0.9995\n",
            "Epoch 3/5\n",
            "1000/1000 [==============================] - 483s 481ms/step - loss: 0.0097 - c1_loss: 0.0013 - c2_loss: 0.0040 - c3_loss: 0.0034 - c4_loss: 0.0011 - c1_accuracy: 0.9996 - c2_accuracy: 0.9989 - c3_accuracy: 0.9990 - c4_accuracy: 0.9997 - val_loss: 0.0076 - val_c1_loss: 0.0016 - val_c2_loss: 0.0022 - val_c3_loss: 0.0032 - val_c4_loss: 5.2426e-04 - val_c1_accuracy: 0.9996 - val_c2_accuracy: 0.9994 - val_c3_accuracy: 0.9990 - val_c4_accuracy: 0.9998\n",
            "Epoch 4/5\n",
            "1000/1000 [==============================] - 489s 487ms/step - loss: 0.0082 - c1_loss: 9.1107e-04 - c2_loss: 0.0031 - c3_loss: 0.0033 - c4_loss: 9.7387e-04 - c1_accuracy: 0.9998 - c2_accuracy: 0.9991 - c3_accuracy: 0.9990 - c4_accuracy: 0.9997 - val_loss: 0.0068 - val_c1_loss: 4.4393e-04 - val_c2_loss: 0.0026 - val_c3_loss: 0.0035 - val_c4_loss: 2.2517e-04 - val_c1_accuracy: 0.9999 - val_c2_accuracy: 0.9993 - val_c3_accuracy: 0.9994 - val_c4_accuracy: 1.0000\n",
            "Epoch 5/5\n",
            "1000/1000 [==============================] - 495s 494ms/step - loss: 0.0080 - c1_loss: 9.7301e-04 - c2_loss: 0.0031 - c3_loss: 0.0026 - c4_loss: 0.0013 - c1_accuracy: 0.9998 - c2_accuracy: 0.9991 - c3_accuracy: 0.9991 - c4_accuracy: 0.9996 - val_loss: 0.0077 - val_c1_loss: 9.1309e-04 - val_c2_loss: 0.0026 - val_c3_loss: 0.0033 - val_c4_loss: 9.7431e-04 - val_c1_accuracy: 0.9998 - val_c2_accuracy: 0.9995 - val_c3_accuracy: 0.9993 - val_c4_accuracy: 0.9997\n"
          ]
        },
        {
          "data": {
            "application/javascript": "\n    async function download(id, filename, size) {\n      if (!google.colab.kernel.accessAllowed) {\n        return;\n      }\n      const div = document.createElement('div');\n      const label = document.createElement('label');\n      label.textContent = `Downloading \"${filename}\": `;\n      div.appendChild(label);\n      const progress = document.createElement('progress');\n      progress.max = size;\n      div.appendChild(progress);\n      document.body.appendChild(div);\n\n      const buffers = [];\n      let downloaded = 0;\n\n      const channel = await google.colab.kernel.comms.open(id);\n      // Send a message to notify the kernel that we're ready.\n      channel.send({})\n\n      for await (const message of channel.messages) {\n        // Send a message to notify the kernel that we're ready.\n        channel.send({})\n        if (message.buffers) {\n          for (const buffer of message.buffers) {\n            buffers.push(buffer);\n            downloaded += buffer.byteLength;\n            progress.value = downloaded;\n          }\n        }\n      }\n      const blob = new Blob(buffers, {type: 'application/binary'});\n      const a = document.createElement('a');\n      a.href = window.URL.createObjectURL(blob);\n      a.download = filename;\n      div.appendChild(a);\n      a.click();\n      div.remove();\n    }\n  ",
            "text/plain": [
              "<IPython.core.display.Javascript object>"
            ]
          },
          "metadata": {},
          "output_type": "display_data"
        },
        {
          "data": {
            "application/javascript": "download(\"download_7910aee7-2afd-404b-a9f5-3506e3ef76b3\", \"cnn_96x72_4_best_best.h5\", 41396904)",
            "text/plain": [
              "<IPython.core.display.Javascript object>"
            ]
          },
          "metadata": {},
          "output_type": "display_data"
        }
      ],
      "source": [
        "model.load_weights(basename + '_best.h5')\n",
        "\n",
        "callbacks = [EarlyStopping(patience=3), CSVLogger(basename + '_best_best.csv', append=True), \n",
        "                ModelCheckpoint(basename + '_best_best.h5', save_best_only=True)]\n",
        "\n",
        "model.compile(loss='categorical_crossentropy',\n",
        "                optimizer=Adam(1e-4, amsgrad=True), \n",
        "                metrics=['accuracy'])\n",
        "model.fit_generator(train_data, epochs=5, validation_data=valid_data, workers=4, use_multiprocessing=True,\n",
        "                    callbacks=callbacks)"
      ]
    }
  ],
  "metadata": {
    "accelerator": "GPU",
    "colab": {
      "provenance": []
    },
    "gpuClass": "standard",
    "kernelspec": {
      "display_name": "Python 3",
      "name": "python3"
    },
    "language_info": {
      "name": "python"
    }
  },
  "nbformat": 4,
  "nbformat_minor": 0
}
